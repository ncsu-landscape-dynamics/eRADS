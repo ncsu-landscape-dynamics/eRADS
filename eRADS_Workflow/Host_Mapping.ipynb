{
  "nbformat": 4,
  "nbformat_minor": 0,
  "metadata": {
    "colab": {
      "name": "Host_Mapping.ipynb",
      "provenance": [],
      "collapsed_sections": [],
      "toc_visible": true
    },
    "kernelspec": {
      "name": "python3",
      "display_name": "Python 3"
    }
  },
  "cells": [
    {
      "cell_type": "markdown",
      "metadata": {
        "id": "5V018ONWVxwQ",
        "colab_type": "text"
      },
      "source": [
        "#Prepare Environment"
      ]
    },
    {
      "cell_type": "markdown",
      "metadata": {
        "id": "q3_pDtXOV7Dd",
        "colab_type": "text"
      },
      "source": [
        "### Install Packages"
      ]
    },
    {
      "cell_type": "code",
      "metadata": {
        "id": "JxMAqQFqLNJR",
        "colab_type": "code",
        "colab": {
          "base_uri": "https://localhost:8080/",
          "height": 1000
        },
        "outputId": "562621fb-2f67-4806-a692-32197ae99441"
      },
      "source": [
        "!pip install --upgrade geopandas\n",
        "!pip install --upgrade pyshp\n",
        "!pip install --upgrade geemap\n",
        "!pip install --upgrade osgeo"
      ],
      "execution_count": null,
      "outputs": [
        {
          "output_type": "stream",
          "text": [
            "Collecting geopandas\n",
            "\u001b[?25l  Downloading https://files.pythonhosted.org/packages/f7/a4/e66aafbefcbb717813bf3a355c8c4fc3ed04ea1dd7feb2920f2f4f868921/geopandas-0.8.1-py2.py3-none-any.whl (962kB)\n",
            "\u001b[K     |████████████████████████████████| 972kB 2.7MB/s \n",
            "\u001b[?25hCollecting fiona\n",
            "\u001b[?25l  Downloading https://files.pythonhosted.org/packages/36/8b/e8b2c11bed5373c8e98edb85ce891b09aa1f4210fd451d0fb3696b7695a2/Fiona-1.8.17-cp36-cp36m-manylinux1_x86_64.whl (14.8MB)\n",
            "\u001b[K     |████████████████████████████████| 14.8MB 293kB/s \n",
            "\u001b[?25hRequirement already satisfied, skipping upgrade: shapely in /usr/local/lib/python3.6/dist-packages (from geopandas) (1.7.1)\n",
            "Requirement already satisfied, skipping upgrade: pandas>=0.23.0 in /usr/local/lib/python3.6/dist-packages (from geopandas) (1.0.5)\n",
            "Collecting pyproj>=2.2.0\n",
            "\u001b[?25l  Downloading https://files.pythonhosted.org/packages/e5/c3/071e080230ac4b6c64f1a2e2f9161c9737a2bc7b683d2c90b024825000c0/pyproj-2.6.1.post1-cp36-cp36m-manylinux2010_x86_64.whl (10.9MB)\n",
            "\u001b[K     |████████████████████████████████| 10.9MB 35.9MB/s \n",
            "\u001b[?25hRequirement already satisfied, skipping upgrade: attrs>=17 in /usr/local/lib/python3.6/dist-packages (from fiona->geopandas) (20.1.0)\n",
            "Collecting cligj>=0.5\n",
            "  Downloading https://files.pythonhosted.org/packages/e4/be/30a58b4b0733850280d01f8bd132591b4668ed5c7046761098d665ac2174/cligj-0.5.0-py3-none-any.whl\n",
            "Collecting click-plugins>=1.0\n",
            "  Downloading https://files.pythonhosted.org/packages/e9/da/824b92d9942f4e472702488857914bdd50f73021efea15b4cad9aca8ecef/click_plugins-1.1.1-py2.py3-none-any.whl\n",
            "Requirement already satisfied, skipping upgrade: click<8,>=4.0 in /usr/local/lib/python3.6/dist-packages (from fiona->geopandas) (7.1.2)\n",
            "Requirement already satisfied, skipping upgrade: six>=1.7 in /usr/local/lib/python3.6/dist-packages (from fiona->geopandas) (1.15.0)\n",
            "Collecting munch\n",
            "  Downloading https://files.pythonhosted.org/packages/cc/ab/85d8da5c9a45e072301beb37ad7f833cd344e04c817d97e0cc75681d248f/munch-2.5.0-py2.py3-none-any.whl\n",
            "Requirement already satisfied, skipping upgrade: pytz>=2017.2 in /usr/local/lib/python3.6/dist-packages (from pandas>=0.23.0->geopandas) (2018.9)\n",
            "Requirement already satisfied, skipping upgrade: numpy>=1.13.3 in /usr/local/lib/python3.6/dist-packages (from pandas>=0.23.0->geopandas) (1.18.5)\n",
            "Requirement already satisfied, skipping upgrade: python-dateutil>=2.6.1 in /usr/local/lib/python3.6/dist-packages (from pandas>=0.23.0->geopandas) (2.8.1)\n",
            "Installing collected packages: cligj, click-plugins, munch, fiona, pyproj, geopandas\n",
            "Successfully installed click-plugins-1.1.1 cligj-0.5.0 fiona-1.8.17 geopandas-0.8.1 munch-2.5.0 pyproj-2.6.1.post1\n",
            "Collecting pyshp\n",
            "\u001b[?25l  Downloading https://files.pythonhosted.org/packages/ca/1f/e9cc2c3fce32e2926581f8b6905831165235464c858ba550b6e9b8ef78c3/pyshp-2.1.2.tar.gz (217kB)\n",
            "\u001b[K     |████████████████████████████████| 225kB 2.8MB/s \n",
            "\u001b[?25hBuilding wheels for collected packages: pyshp\n",
            "  Building wheel for pyshp (setup.py) ... \u001b[?25l\u001b[?25hdone\n",
            "  Created wheel for pyshp: filename=pyshp-2.1.2-cp36-none-any.whl size=36216 sha256=3776ca71c50c2d320cced689750f1aece797d498a1084492af2a949ab7c6f61a\n",
            "  Stored in directory: /root/.cache/pip/wheels/96/6c/53/4112475adf3b831da97f083163d0f38ee6daac9c1b13f7afea\n",
            "Successfully built pyshp\n",
            "Installing collected packages: pyshp\n",
            "Successfully installed pyshp-2.1.2\n",
            "Collecting geemap\n",
            "\u001b[?25l  Downloading https://files.pythonhosted.org/packages/f3/80/5508ea64f598c06ebb4fd1cdd04374b8295ea42675a45df56b13908ef91f/geemap-0.7.12-py2.py3-none-any.whl (372kB)\n",
            "\u001b[K     |████████████████████████████████| 378kB 2.7MB/s \n",
            "\u001b[?25hRequirement already satisfied, skipping upgrade: click in /usr/local/lib/python3.6/dist-packages (from geemap) (7.1.2)\n",
            "Collecting geocoder\n",
            "\u001b[?25l  Downloading https://files.pythonhosted.org/packages/4f/6b/13166c909ad2f2d76b929a4227c952630ebaf0d729f6317eb09cbceccbab/geocoder-1.38.1-py2.py3-none-any.whl (98kB)\n",
            "\u001b[K     |████████████████████████████████| 102kB 6.1MB/s \n",
            "\u001b[?25hCollecting colour\n",
            "  Downloading https://files.pythonhosted.org/packages/74/46/e81907704ab203206769dee1385dc77e1407576ff8f50a0681d0a6b541be/colour-0.1.5-py2.py3-none-any.whl\n",
            "Collecting ipytree\n",
            "\u001b[?25l  Downloading https://files.pythonhosted.org/packages/36/2f/f93092e485afc384b4cc39f17ff1cb252380a3745bb4a7e2f6e488e3d0c4/ipytree-0.1.8-py2.py3-none-any.whl (1.1MB)\n",
            "\u001b[K     |████████████████████████████████| 1.1MB 8.6MB/s \n",
            "\u001b[?25hRequirement already satisfied, skipping upgrade: matplotlib in /usr/local/lib/python3.6/dist-packages (from geemap) (3.2.2)\n",
            "Collecting mss\n",
            "\u001b[?25l  Downloading https://files.pythonhosted.org/packages/98/fe/b658d2a62efcad506d680e988cce0ff7d3e09bef288d67be062753ecfd73/mss-6.0.0-py3-none-any.whl (76kB)\n",
            "\u001b[K     |████████████████████████████████| 81kB 7.0MB/s \n",
            "\u001b[?25hRequirement already satisfied, skipping upgrade: pyshp in /usr/local/lib/python3.6/dist-packages (from geemap) (2.1.2)\n",
            "Collecting geeadd>=0.5.1\n",
            "  Downloading https://files.pythonhosted.org/packages/de/0c/7a2354487ce65eb301920678a6001795ea113fbb777c268ac8ef827c320a/geeadd-0.5.1-py3-none-any.whl\n",
            "Collecting folium>=0.11.0\n",
            "\u001b[?25l  Downloading https://files.pythonhosted.org/packages/a4/f0/44e69d50519880287cc41e7c8a6acc58daa9a9acf5f6afc52bcc70f69a6d/folium-0.11.0-py2.py3-none-any.whl (93kB)\n",
            "\u001b[K     |████████████████████████████████| 102kB 7.2MB/s \n",
            "\u001b[?25hCollecting voila\n",
            "\u001b[?25l  Downloading https://files.pythonhosted.org/packages/99/4a/ed204b543099a18924b830d289a6bfc511c0b7c9e71d5a738806eca3ee91/voila-0.1.23-py3-none-any.whl (5.9MB)\n",
            "\u001b[K     |████████████████████████████████| 5.9MB 8.8MB/s \n",
            "\u001b[?25hRequirement already satisfied, skipping upgrade: pillow in /usr/local/lib/python3.6/dist-packages (from geemap) (7.0.0)\n",
            "Collecting ipyleaflet>=0.13.3\n",
            "\u001b[?25l  Downloading https://files.pythonhosted.org/packages/a0/9d/f411b8a9522f1710f278c60b2cd8d26817d8c64b7568de95f9437db6caf0/ipyleaflet-0.13.3-py2.py3-none-any.whl (5.1MB)\n",
            "\u001b[K     |████████████████████████████████| 5.1MB 32.5MB/s \n",
            "\u001b[?25hCollecting ipynb-py-convert\n",
            "  Downloading https://files.pythonhosted.org/packages/43/90/37ff1b9f553583e60c327e1ea8cbfea469c38c9d8791ad1f7ee6d3482efa/ipynb-py-convert-0.4.6.tar.gz\n",
            "Collecting bqplot\n",
            "\u001b[?25l  Downloading https://files.pythonhosted.org/packages/4f/e4/8454b085d6659b9bcf4842f5b68a2a327fed4ee94bf9ffe040d7e0cf6cb1/bqplot-0.12.17-py2.py3-none-any.whl (4.7MB)\n",
            "\u001b[K     |████████████████████████████████| 4.7MB 36.6MB/s \n",
            "\u001b[?25hCollecting ffmpeg-python\n",
            "  Downloading https://files.pythonhosted.org/packages/d7/0c/56be52741f75bad4dc6555991fabd2e07b432d333da82c11ad701123888a/ffmpeg_python-0.2.0-py3-none-any.whl\n",
            "Requirement already satisfied, skipping upgrade: earthengine-api>=0.1.230 in /usr/local/lib/python3.6/dist-packages (from geemap) (0.1.232)\n",
            "Collecting ipyfilechooser\n",
            "  Downloading https://files.pythonhosted.org/packages/49/dd/b3783c5c1528f94b082e58b8fb050d4fb5120501814288614cb4c35b5c85/ipyfilechooser-0.3.5-py3-none-any.whl\n",
            "Requirement already satisfied, skipping upgrade: six in /usr/local/lib/python3.6/dist-packages (from geocoder->geemap) (1.15.0)\n",
            "Collecting ratelim\n",
            "  Downloading https://files.pythonhosted.org/packages/f2/98/7e6d147fd16a10a5f821db6e25f192265d6ecca3d82957a4fdd592cad49c/ratelim-0.1.6-py2.py3-none-any.whl\n",
            "Requirement already satisfied, skipping upgrade: requests in /usr/local/lib/python3.6/dist-packages (from geocoder->geemap) (2.23.0)\n",
            "Requirement already satisfied, skipping upgrade: future in /usr/local/lib/python3.6/dist-packages (from geocoder->geemap) (0.16.0)\n",
            "Requirement already satisfied, skipping upgrade: ipywidgets<8,>=7.5.0 in /usr/local/lib/python3.6/dist-packages (from ipytree->geemap) (7.5.1)\n",
            "Requirement already satisfied, skipping upgrade: kiwisolver>=1.0.1 in /usr/local/lib/python3.6/dist-packages (from matplotlib->geemap) (1.2.0)\n",
            "Requirement already satisfied, skipping upgrade: pyparsing!=2.0.4,!=2.1.2,!=2.1.6,>=2.0.1 in /usr/local/lib/python3.6/dist-packages (from matplotlib->geemap) (2.4.7)\n",
            "Requirement already satisfied, skipping upgrade: numpy>=1.11 in /usr/local/lib/python3.6/dist-packages (from matplotlib->geemap) (1.18.5)\n",
            "Requirement already satisfied, skipping upgrade: cycler>=0.10 in /usr/local/lib/python3.6/dist-packages (from matplotlib->geemap) (0.10.0)\n",
            "Requirement already satisfied, skipping upgrade: python-dateutil>=2.1 in /usr/local/lib/python3.6/dist-packages (from matplotlib->geemap) (2.8.1)\n",
            "Collecting logzero>=1.5.0\n",
            "  Downloading https://files.pythonhosted.org/packages/97/24/27295d318ea8976b12cf9cc51d82e7c7129220f6a3cc9e3443df3be8afdb/logzero-1.5.0-py2.py3-none-any.whl\n",
            "Collecting beautifulsoup4>=4.9.0\n",
            "\u001b[?25l  Downloading https://files.pythonhosted.org/packages/66/25/ff030e2437265616a1e9b25ccc864e0371a0bc3adb7c5a404fd661c6f4f6/beautifulsoup4-4.9.1-py3-none-any.whl (115kB)\n",
            "\u001b[K     |████████████████████████████████| 122kB 45.0MB/s \n",
            "\u001b[?25hRequirement already satisfied, skipping upgrade: jinja2>=2.9 in /usr/local/lib/python3.6/dist-packages (from folium>=0.11.0->geemap) (2.11.2)\n",
            "Requirement already satisfied, skipping upgrade: branca>=0.3.0 in /usr/local/lib/python3.6/dist-packages (from folium>=0.11.0->geemap) (0.4.1)\n",
            "Collecting jupyterlab-pygments<0.2,>=0.1.0\n",
            "  Downloading https://files.pythonhosted.org/packages/1f/4c/905faabb03f56ba92b1b9049436afead02bc09aae7e8f0d1107ebb46b151/jupyterlab_pygments-0.1.1-py2.py3-none-any.whl\n",
            "Collecting jupyter-server<0.2.0,>=0.1.0\n",
            "\u001b[?25l  Downloading https://files.pythonhosted.org/packages/0f/9e/4b5bddfbab2f56b561b672d04c300d6c2d4b3f2c7c99e7935892104f2efa/jupyter_server-0.1.1-py2.py3-none-any.whl (183kB)\n",
            "\u001b[K     |████████████████████████████████| 184kB 48.3MB/s \n",
            "\u001b[?25hCollecting pygments<3,>=2.4.1\n",
            "\u001b[?25l  Downloading https://files.pythonhosted.org/packages/2d/68/106af3ae51daf807e9cdcba6a90e518954eb8b70341cee52995540a53ead/Pygments-2.6.1-py3-none-any.whl (914kB)\n",
            "\u001b[K     |████████████████████████████████| 921kB 41.7MB/s \n",
            "\u001b[?25hCollecting async-generator\n",
            "  Downloading https://files.pythonhosted.org/packages/71/52/39d20e03abd0ac9159c162ec24b93fbcaa111e8400308f2465432495ca2b/async_generator-1.10-py3-none-any.whl\n",
            "Requirement already satisfied, skipping upgrade: nbconvert<6,>=5.5.0 in /usr/local/lib/python3.6/dist-packages (from voila->geemap) (5.6.1)\n",
            "Collecting traittypes<3,>=0.2.1\n",
            "  Downloading https://files.pythonhosted.org/packages/9c/d1/8d5bd662703cc1764d986f6908a608777305946fa634d34c470cd4a1e729/traittypes-0.2.1-py2.py3-none-any.whl\n",
            "Requirement already satisfied, skipping upgrade: traitlets>=4.3.0 in /usr/local/lib/python3.6/dist-packages (from bqplot->geemap) (4.3.3)\n",
            "Requirement already satisfied, skipping upgrade: pandas in /usr/local/lib/python3.6/dist-packages (from bqplot->geemap) (1.0.5)\n",
            "Requirement already satisfied, skipping upgrade: google-auth-httplib2>=0.0.3 in /usr/local/lib/python3.6/dist-packages (from earthengine-api>=0.1.230->geemap) (0.0.4)\n",
            "Requirement already satisfied, skipping upgrade: google-api-python-client in /usr/local/lib/python3.6/dist-packages (from earthengine-api>=0.1.230->geemap) (1.7.12)\n",
            "Requirement already satisfied, skipping upgrade: httplib2shim in /usr/local/lib/python3.6/dist-packages (from earthengine-api>=0.1.230->geemap) (0.0.3)\n",
            "Requirement already satisfied, skipping upgrade: google-auth>=1.4.1 in /usr/local/lib/python3.6/dist-packages (from earthengine-api>=0.1.230->geemap) (1.17.2)\n",
            "Requirement already satisfied, skipping upgrade: google-cloud-storage in /usr/local/lib/python3.6/dist-packages (from earthengine-api>=0.1.230->geemap) (1.18.1)\n",
            "Requirement already satisfied, skipping upgrade: httplib2<1dev,>=0.9.2 in /usr/local/lib/python3.6/dist-packages (from earthengine-api>=0.1.230->geemap) (0.17.4)\n",
            "Requirement already satisfied, skipping upgrade: decorator in /usr/local/lib/python3.6/dist-packages (from ratelim->geocoder->geemap) (4.4.2)\n",
            "Requirement already satisfied, skipping upgrade: certifi>=2017.4.17 in /usr/local/lib/python3.6/dist-packages (from requests->geocoder->geemap) (2020.6.20)\n",
            "Requirement already satisfied, skipping upgrade: chardet<4,>=3.0.2 in /usr/local/lib/python3.6/dist-packages (from requests->geocoder->geemap) (3.0.4)\n",
            "Requirement already satisfied, skipping upgrade: idna<3,>=2.5 in /usr/local/lib/python3.6/dist-packages (from requests->geocoder->geemap) (2.10)\n",
            "Requirement already satisfied, skipping upgrade: urllib3!=1.25.0,!=1.25.1,<1.26,>=1.21.1 in /usr/local/lib/python3.6/dist-packages (from requests->geocoder->geemap) (1.24.3)\n",
            "Requirement already satisfied, skipping upgrade: ipython>=4.0.0; python_version >= \"3.3\" in /usr/local/lib/python3.6/dist-packages (from ipywidgets<8,>=7.5.0->ipytree->geemap) (5.5.0)\n",
            "Requirement already satisfied, skipping upgrade: nbformat>=4.2.0 in /usr/local/lib/python3.6/dist-packages (from ipywidgets<8,>=7.5.0->ipytree->geemap) (5.0.7)\n",
            "Requirement already satisfied, skipping upgrade: widgetsnbextension~=3.5.0 in /usr/local/lib/python3.6/dist-packages (from ipywidgets<8,>=7.5.0->ipytree->geemap) (3.5.1)\n",
            "Requirement already satisfied, skipping upgrade: ipykernel>=4.5.1 in /usr/local/lib/python3.6/dist-packages (from ipywidgets<8,>=7.5.0->ipytree->geemap) (4.10.1)\n",
            "Collecting soupsieve>1.2\n",
            "  Downloading https://files.pythonhosted.org/packages/6f/8f/457f4a5390eeae1cc3aeab89deb7724c965be841ffca6cfca9197482e470/soupsieve-2.0.1-py3-none-any.whl\n",
            "Requirement already satisfied, skipping upgrade: MarkupSafe>=0.23 in /usr/local/lib/python3.6/dist-packages (from jinja2>=2.9->folium>=0.11.0->geemap) (1.1.1)\n",
            "Requirement already satisfied, skipping upgrade: terminado>=0.8.1 in /usr/local/lib/python3.6/dist-packages (from jupyter-server<0.2.0,>=0.1.0->voila->geemap) (0.8.3)\n",
            "Requirement already satisfied, skipping upgrade: tornado>=4 in /usr/local/lib/python3.6/dist-packages (from jupyter-server<0.2.0,>=0.1.0->voila->geemap) (5.1.1)\n",
            "Requirement already satisfied, skipping upgrade: pyzmq>=17 in /usr/local/lib/python3.6/dist-packages (from jupyter-server<0.2.0,>=0.1.0->voila->geemap) (19.0.2)\n",
            "Requirement already satisfied, skipping upgrade: jupyter-core>=4.4.0 in /usr/local/lib/python3.6/dist-packages (from jupyter-server<0.2.0,>=0.1.0->voila->geemap) (4.6.3)\n",
            "Requirement already satisfied, skipping upgrade: jupyter-client>=5.3.1 in /usr/local/lib/python3.6/dist-packages (from jupyter-server<0.2.0,>=0.1.0->voila->geemap) (5.3.5)\n",
            "Requirement already satisfied, skipping upgrade: Send2Trash in /usr/local/lib/python3.6/dist-packages (from jupyter-server<0.2.0,>=0.1.0->voila->geemap) (1.5.0)\n",
            "Requirement already satisfied, skipping upgrade: ipython-genutils in /usr/local/lib/python3.6/dist-packages (from jupyter-server<0.2.0,>=0.1.0->voila->geemap) (0.2.0)\n",
            "Requirement already satisfied, skipping upgrade: prometheus-client in /usr/local/lib/python3.6/dist-packages (from jupyter-server<0.2.0,>=0.1.0->voila->geemap) (0.8.0)\n",
            "Requirement already satisfied, skipping upgrade: entrypoints>=0.2.2 in /usr/local/lib/python3.6/dist-packages (from nbconvert<6,>=5.5.0->voila->geemap) (0.3)\n",
            "Requirement already satisfied, skipping upgrade: mistune<2,>=0.8.1 in /usr/local/lib/python3.6/dist-packages (from nbconvert<6,>=5.5.0->voila->geemap) (0.8.4)\n",
            "Requirement already satisfied, skipping upgrade: bleach in /usr/local/lib/python3.6/dist-packages (from nbconvert<6,>=5.5.0->voila->geemap) (3.1.5)\n",
            "Requirement already satisfied, skipping upgrade: testpath in /usr/local/lib/python3.6/dist-packages (from nbconvert<6,>=5.5.0->voila->geemap) (0.4.4)\n",
            "Requirement already satisfied, skipping upgrade: pandocfilters>=1.4.1 in /usr/local/lib/python3.6/dist-packages (from nbconvert<6,>=5.5.0->voila->geemap) (1.4.2)\n",
            "Requirement already satisfied, skipping upgrade: defusedxml in /usr/local/lib/python3.6/dist-packages (from nbconvert<6,>=5.5.0->voila->geemap) (0.6.0)\n",
            "Requirement already satisfied, skipping upgrade: pytz>=2017.2 in /usr/local/lib/python3.6/dist-packages (from pandas->bqplot->geemap) (2018.9)\n",
            "Requirement already satisfied, skipping upgrade: uritemplate<4dev,>=3.0.0 in /usr/local/lib/python3.6/dist-packages (from google-api-python-client->earthengine-api>=0.1.230->geemap) (3.0.1)\n",
            "Requirement already satisfied, skipping upgrade: setuptools>=40.3.0 in /usr/local/lib/python3.6/dist-packages (from google-auth>=1.4.1->earthengine-api>=0.1.230->geemap) (49.6.0)\n",
            "Requirement already satisfied, skipping upgrade: cachetools<5.0,>=2.0.0 in /usr/local/lib/python3.6/dist-packages (from google-auth>=1.4.1->earthengine-api>=0.1.230->geemap) (4.1.1)\n",
            "Requirement already satisfied, skipping upgrade: rsa<5,>=3.1.4; python_version >= \"3\" in /usr/local/lib/python3.6/dist-packages (from google-auth>=1.4.1->earthengine-api>=0.1.230->geemap) (4.6)\n",
            "Requirement already satisfied, skipping upgrade: pyasn1-modules>=0.2.1 in /usr/local/lib/python3.6/dist-packages (from google-auth>=1.4.1->earthengine-api>=0.1.230->geemap) (0.2.8)\n",
            "Requirement already satisfied, skipping upgrade: google-cloud-core<2.0dev,>=1.0.0 in /usr/local/lib/python3.6/dist-packages (from google-cloud-storage->earthengine-api>=0.1.230->geemap) (1.0.3)\n",
            "Requirement already satisfied, skipping upgrade: google-resumable-media<0.5.0dev,>=0.3.1 in /usr/local/lib/python3.6/dist-packages (from google-cloud-storage->earthengine-api>=0.1.230->geemap) (0.4.1)\n",
            "Requirement already satisfied, skipping upgrade: simplegeneric>0.8 in /usr/local/lib/python3.6/dist-packages (from ipython>=4.0.0; python_version >= \"3.3\"->ipywidgets<8,>=7.5.0->ipytree->geemap) (0.8.1)\n",
            "Requirement already satisfied, skipping upgrade: prompt-toolkit<2.0.0,>=1.0.4 in /usr/local/lib/python3.6/dist-packages (from ipython>=4.0.0; python_version >= \"3.3\"->ipywidgets<8,>=7.5.0->ipytree->geemap) (1.0.18)\n",
            "Requirement already satisfied, skipping upgrade: pickleshare in /usr/local/lib/python3.6/dist-packages (from ipython>=4.0.0; python_version >= \"3.3\"->ipywidgets<8,>=7.5.0->ipytree->geemap) (0.7.5)\n",
            "Requirement already satisfied, skipping upgrade: pexpect; sys_platform != \"win32\" in /usr/local/lib/python3.6/dist-packages (from ipython>=4.0.0; python_version >= \"3.3\"->ipywidgets<8,>=7.5.0->ipytree->geemap) (4.8.0)\n",
            "Requirement already satisfied, skipping upgrade: jsonschema!=2.5.0,>=2.4 in /usr/local/lib/python3.6/dist-packages (from nbformat>=4.2.0->ipywidgets<8,>=7.5.0->ipytree->geemap) (2.6.0)\n",
            "Requirement already satisfied, skipping upgrade: notebook>=4.4.1 in /usr/local/lib/python3.6/dist-packages (from widgetsnbextension~=3.5.0->ipywidgets<8,>=7.5.0->ipytree->geemap) (5.3.1)\n",
            "Requirement already satisfied, skipping upgrade: ptyprocess; os_name != \"nt\" in /usr/local/lib/python3.6/dist-packages (from terminado>=0.8.1->jupyter-server<0.2.0,>=0.1.0->voila->geemap) (0.6.0)\n",
            "Requirement already satisfied, skipping upgrade: webencodings in /usr/local/lib/python3.6/dist-packages (from bleach->nbconvert<6,>=5.5.0->voila->geemap) (0.5.1)\n",
            "Requirement already satisfied, skipping upgrade: packaging in /usr/local/lib/python3.6/dist-packages (from bleach->nbconvert<6,>=5.5.0->voila->geemap) (20.4)\n",
            "Requirement already satisfied, skipping upgrade: pyasn1>=0.1.3 in /usr/local/lib/python3.6/dist-packages (from rsa<5,>=3.1.4; python_version >= \"3\"->google-auth>=1.4.1->earthengine-api>=0.1.230->geemap) (0.4.8)\n",
            "Requirement already satisfied, skipping upgrade: google-api-core<2.0.0dev,>=1.14.0 in /usr/local/lib/python3.6/dist-packages (from google-cloud-core<2.0dev,>=1.0.0->google-cloud-storage->earthengine-api>=0.1.230->geemap) (1.16.0)\n",
            "Requirement already satisfied, skipping upgrade: wcwidth in /usr/local/lib/python3.6/dist-packages (from prompt-toolkit<2.0.0,>=1.0.4->ipython>=4.0.0; python_version >= \"3.3\"->ipywidgets<8,>=7.5.0->ipytree->geemap) (0.2.5)\n",
            "Requirement already satisfied, skipping upgrade: protobuf>=3.4.0 in /usr/local/lib/python3.6/dist-packages (from google-api-core<2.0.0dev,>=1.14.0->google-cloud-core<2.0dev,>=1.0.0->google-cloud-storage->earthengine-api>=0.1.230->geemap) (3.12.4)\n",
            "Requirement already satisfied, skipping upgrade: googleapis-common-protos<2.0dev,>=1.6.0 in /usr/local/lib/python3.6/dist-packages (from google-api-core<2.0.0dev,>=1.14.0->google-cloud-core<2.0dev,>=1.0.0->google-cloud-storage->earthengine-api>=0.1.230->geemap) (1.52.0)\n",
            "Building wheels for collected packages: ipynb-py-convert\n",
            "  Building wheel for ipynb-py-convert (setup.py) ... \u001b[?25l\u001b[?25hdone\n",
            "  Created wheel for ipynb-py-convert: filename=ipynb_py_convert-0.4.6-cp36-none-any.whl size=4625 sha256=cf19901678f67379f61cf0a7c5bd9fbb25e1f7c2e8917022d400534671297d9c\n",
            "  Stored in directory: /root/.cache/pip/wheels/80/dc/7c/a7279f7726d66951fe48d5afd45247bcf5bf92c98282e4e78e\n",
            "Successfully built ipynb-py-convert\n",
            "\u001b[31mERROR: datascience 0.10.6 has requirement folium==0.2.1, but you'll have folium 0.11.0 which is incompatible.\u001b[0m\n",
            "Installing collected packages: ratelim, geocoder, colour, ipytree, mss, logzero, soupsieve, beautifulsoup4, geeadd, folium, pygments, jupyterlab-pygments, jupyter-server, async-generator, voila, traittypes, ipyleaflet, ipynb-py-convert, bqplot, ffmpeg-python, ipyfilechooser, geemap\n",
            "  Found existing installation: beautifulsoup4 4.6.3\n",
            "    Uninstalling beautifulsoup4-4.6.3:\n",
            "      Successfully uninstalled beautifulsoup4-4.6.3\n",
            "  Found existing installation: folium 0.8.3\n",
            "    Uninstalling folium-0.8.3:\n",
            "      Successfully uninstalled folium-0.8.3\n",
            "  Found existing installation: Pygments 2.1.3\n",
            "    Uninstalling Pygments-2.1.3:\n",
            "      Successfully uninstalled Pygments-2.1.3\n",
            "Successfully installed async-generator-1.10 beautifulsoup4-4.9.1 bqplot-0.12.17 colour-0.1.5 ffmpeg-python-0.2.0 folium-0.11.0 geeadd-0.5.1 geemap-0.7.12 geocoder-1.38.1 ipyfilechooser-0.3.5 ipyleaflet-0.13.3 ipynb-py-convert-0.4.6 ipytree-0.1.8 jupyter-server-0.1.1 jupyterlab-pygments-0.1.1 logzero-1.5.0 mss-6.0.0 pygments-2.6.1 ratelim-0.1.6 soupsieve-2.0.1 traittypes-0.2.1 voila-0.1.23\n"
          ],
          "name": "stdout"
        },
        {
          "output_type": "display_data",
          "data": {
            "application/vnd.colab-display-data+json": {
              "pip_warning": {
                "packages": [
                  "pygments"
                ]
              }
            }
          },
          "metadata": {
            "tags": []
          }
        },
        {
          "output_type": "stream",
          "text": [
            "\u001b[31mERROR: Could not find a version that satisfies the requirement osgeo (from versions: none)\u001b[0m\n",
            "\u001b[31mERROR: No matching distribution found for osgeo\u001b[0m\n"
          ],
          "name": "stdout"
        }
      ]
    },
    {
      "cell_type": "markdown",
      "metadata": {
        "id": "eXXx94IzV_pH",
        "colab_type": "text"
      },
      "source": [
        "### Load Packages "
      ]
    },
    {
      "cell_type": "code",
      "metadata": {
        "id": "90p6KkIjKwPJ",
        "colab_type": "code",
        "colab": {}
      },
      "source": [
        "import folium\n",
        "#from geemap import eefolium as emap\n",
        "import pandas as pd\n",
        "import geemap as emap\n",
        "from osgeo import ogr, osr\n",
        "import geopandas as gpd"
      ],
      "execution_count": null,
      "outputs": []
    },
    {
      "cell_type": "code",
      "metadata": {
        "id": "Bc4Xqm8SJJkI",
        "colab_type": "code",
        "colab": {
          "base_uri": "https://localhost:8080/",
          "height": 171
        },
        "outputId": "4709733d-9bb4-472c-c2e5-8af0dfb9b32a"
      },
      "source": [
        "import ee\n",
        "ee.Authenticate()\n",
        "ee.Initialize()"
      ],
      "execution_count": null,
      "outputs": [
        {
          "output_type": "stream",
          "text": [
            "To authorize access needed by Earth Engine, open the following URL in a web browser and follow the instructions. If the web browser does not start automatically, please manually browse the URL below.\n",
            "\n",
            "    https://accounts.google.com/o/oauth2/auth?client_id=517222506229-vsmmajv00ul0bs7p89v5m89qs8eb9359.apps.googleusercontent.com&scope=https%3A%2F%2Fwww.googleapis.com%2Fauth%2Fearthengine+https%3A%2F%2Fwww.googleapis.com%2Fauth%2Fdevstorage.full_control&redirect_uri=urn%3Aietf%3Awg%3Aoauth%3A2.0%3Aoob&response_type=code&code_challenge=nAyRuUwbgxBOXZ6ahGSUiYt3F_5GVG7Z_7Oe4s5R_rE&code_challenge_method=S256\n",
            "\n",
            "The authorization workflow will generate a code, which you should paste in the box below. \n",
            "Enter verification code: 4/4AGxkOXMjthz9AFYlPNx0liOZ0q-gXjEo1_jwYP6N-l2S0AV6Ti1EDM\n",
            "\n",
            "Successfully saved authorization token.\n"
          ],
          "name": "stdout"
        }
      ]
    },
    {
      "cell_type": "markdown",
      "metadata": {
        "id": "UYyZqi3LAjEy",
        "colab_type": "text"
      },
      "source": [
        "### Set working directory "
      ]
    },
    {
      "cell_type": "code",
      "metadata": {
        "id": "uKixpVUTAnAl",
        "colab_type": "code",
        "colab": {
          "base_uri": "https://localhost:8080/",
          "height": 121
        },
        "outputId": "27d81592-0a95-4748-fcee-fe8989e23212"
      },
      "source": [
        "from google.colab import drive\n",
        "drive.mount('/content/drive')"
      ],
      "execution_count": null,
      "outputs": [
        {
          "output_type": "stream",
          "text": [
            "Go to this URL in a browser: https://accounts.google.com/o/oauth2/auth?client_id=947318989803-6bn6qk8qdgf4n4g3pfee6491hc0brc4i.apps.googleusercontent.com&redirect_uri=urn%3aietf%3awg%3aoauth%3a2.0%3aoob&scope=email%20https%3a%2f%2fwww.googleapis.com%2fauth%2fdocs.test%20https%3a%2f%2fwww.googleapis.com%2fauth%2fdrive%20https%3a%2f%2fwww.googleapis.com%2fauth%2fdrive.photos.readonly%20https%3a%2f%2fwww.googleapis.com%2fauth%2fpeopleapi.readonly&response_type=code\n",
            "\n",
            "Enter your authorization code:\n",
            "4/4AGITRYDdsDCl0q6l2e_fNVCvtPxp2dOmuuBoVvxFlO5beudyxVCipQ\n",
            "Mounted at /content/drive\n"
          ],
          "name": "stdout"
        }
      ]
    },
    {
      "cell_type": "code",
      "metadata": {
        "id": "guEgOYQRBAxM",
        "colab_type": "code",
        "colab": {}
      },
      "source": [
        "import os\n",
        "os.chdir('/content/drive/Shared drives/APHIS  Projects/eRADS/eRADS_workflow/eRADS_workflow/host_mapping')"
      ],
      "execution_count": null,
      "outputs": []
    },
    {
      "cell_type": "markdown",
      "metadata": {
        "id": "AhpbQouhWP4Q",
        "colab_type": "text"
      },
      "source": [
        "# Define Area of Interest (AOI)"
      ]
    },
    {
      "cell_type": "markdown",
      "metadata": {
        "id": "XxREDgz00IhF",
        "colab_type": "text"
      },
      "source": [
        "# Mapping Crop Distribution using CropLand Data Layer"
      ]
    },
    {
      "cell_type": "code",
      "metadata": {
        "id": "wOgWI4_GWX6e",
        "colab_type": "code",
        "colab": {
          "base_uri": "https://localhost:8080/",
          "height": 34
        },
        "outputId": "664f3fd4-6d24-49a4-9921-6e5b37aa28a0"
      },
      "source": [
        "aoi = ee.Geometry.Polygon([\n",
        "    [-76.068, 43.375],\n",
        "    [-75.181, 43.375],\n",
        "    [-75.181, 42.005],\n",
        "    [-76.068, 42.005]\n",
        "])\n",
        "\n",
        "#aoi = ee.Projection('EPSG:4326')\n",
        "centroid = aoi.centroid()\n",
        "long, lat = centroid.getInfo()['coordinates']\n",
        "print ('Centroid: long = {}, lat = {}'.format(long, lat))"
      ],
      "execution_count": null,
      "outputs": [
        {
          "output_type": "stream",
          "text": [
            "Centroid: long = -75.62449999999973, lat = 42.68833703924229\n"
          ],
          "name": "stdout"
        }
      ]
    },
    {
      "cell_type": "markdown",
      "metadata": {
        "id": "ibZT3E-sKpqm",
        "colab_type": "text"
      },
      "source": [
        "## Step 1 -- Extract Crop Distribution from Cropland Data Layer   "
      ]
    },
    {
      "cell_type": "markdown",
      "metadata": {
        "id": "iMpILqWSYcxv",
        "colab_type": "text"
      },
      "source": [
        "Load cropland data layer (cdl) from google earth engine. Please pay attention on the how many years of crop layer data you want to use to drive the crop distribution map."
      ]
    },
    {
      "cell_type": "code",
      "metadata": {
        "id": "J2Shu1zjZFr1",
        "colab_type": "code",
        "colab": {}
      },
      "source": [
        "cdls = ee.ImageCollection('USDA/NASS/CDL')\n",
        "clds_dates = cdls.filterDate('2017-01-01', '2020-09-01') # refine data to desired time period"
      ],
      "execution_count": null,
      "outputs": []
    },
    {
      "cell_type": "markdown",
      "metadata": {
        "id": "b1WrI-acaC0G",
        "colab_type": "text"
      },
      "source": [
        "The CDL dataset for each year includes multiple information. To generate the crop map, we only need to select cropland layer from the dataset."
      ]
    },
    {
      "cell_type": "code",
      "metadata": {
        "id": "n_jUGAx2WMLJ",
        "colab_type": "code",
        "colab": {
          "base_uri": "https://localhost:8080/",
          "height": 50
        },
        "outputId": "f4192b49-0cf4-4fe3-d116-496ea0172e43"
      },
      "source": [
        "def select_layer(image):\n",
        "  return image.select(['cropland'])\n",
        "\n",
        "crop_layers = clds_dates.map(select_layer)  \n",
        "print(\"Band name is: \" + str(crop_layers.first().bandNames().getInfo()))\n",
        "print(\"Number of layer is: \" + str(crop_layers.size().getInfo()))"
      ],
      "execution_count": null,
      "outputs": [
        {
          "output_type": "stream",
          "text": [
            "Band name is: ['cropland']\n",
            "Number of layer is: 3\n"
          ],
          "name": "stdout"
        }
      ]
    },
    {
      "cell_type": "markdown",
      "metadata": {
        "id": "rMhkdiDlYb9J",
        "colab_type": "text"
      },
      "source": [
        "## Step 2 -- Conduct a Majority Voting over the the Multiple Years Cropland Data Layers"
      ]
    },
    {
      "cell_type": "code",
      "metadata": {
        "id": "7nh1MIsBiFX_",
        "colab_type": "code",
        "colab": {}
      },
      "source": [
        "crop_mode = crop_layers.reduce(ee.Reducer.mode())\n",
        "crls_mode_aoi = crop_mode.clip(aoi) # clip to only keep data for aoi, or the data will be for the whole contiguous U.S."
      ],
      "execution_count": null,
      "outputs": []
    },
    {
      "cell_type": "markdown",
      "metadata": {
        "id": "YkHzSstdoVIx",
        "colab_type": "text"
      },
      "source": [
        "## Step 3 -- Export Crop Distribution Map (Optinoal)"
      ]
    },
    {
      "cell_type": "markdown",
      "metadata": {
        "id": "9PBop5iwp8uQ",
        "colab_type": "text"
      },
      "source": [
        "Need to set values to description (name for the crop distribution map),scale (spatial resolution of the exported image), folder (google drive folder where you want to save the map), fileFormat (image format)"
      ]
    },
    {
      "cell_type": "code",
      "metadata": {
        "id": "NgvkboYjqnrq",
        "colab_type": "code",
        "colab": {}
      },
      "source": [
        "description = 'Crop_Distribution'\n",
        "scale = 100\n",
        "folder = 'Host_mapping'\n",
        "fileFormat = 'GeoTIFF'"
      ],
      "execution_count": null,
      "outputs": []
    },
    {
      "cell_type": "markdown",
      "metadata": {
        "id": "XJDU_QwbzX1K",
        "colab_type": "text"
      },
      "source": [
        "The code below exported image to the folder and also report the exporting status every 10 seconds."
      ]
    },
    {
      "cell_type": "code",
      "metadata": {
        "id": "g70iJu-4oqsZ",
        "colab_type": "code",
        "colab": {
          "base_uri": "https://localhost:8080/",
          "height": 35
        },
        "outputId": "e428fa90-0edd-4d4e-9445-b04583d83811"
      },
      "source": [
        "task = ee.batch.Export.image.toDrive(image = crls_mode_aoi.toInt(), maxPixels = 1e13, description = description, scale = scale, folder = folder, fileFormat = fileFormat)\n",
        "task.start()\n",
        "\n",
        "import time\n",
        "starttime=time.time()\n",
        "state = \"Ready\"\n",
        "\n",
        "n=0\n",
        "while state!='COMPLETED' and state!= 'FAILED':\n",
        "    \n",
        "    time.sleep(10.0)\n",
        "    \n",
        "    print(\"status: \" + task.status()['state'])\n",
        "    state = task.status()['state']\n",
        "    n += 1\n",
        "    print(\"Time consumed: \" + str(10*n) +'s')\n",
        "    \n",
        "\n",
        "if task.status()['state'] == 'FAILED':\n",
        "    print (task.status()['error_message'])"
      ],
      "execution_count": null,
      "outputs": [
        {
          "output_type": "execute_result",
          "data": {
            "application/vnd.google.colaboratory.intrinsic+json": {
              "type": "string"
            },
            "text/plain": [
              "'READY'"
            ]
          },
          "metadata": {
            "tags": []
          },
          "execution_count": 49
        }
      ]
    },
    {
      "cell_type": "markdown",
      "metadata": {
        "id": "d5Oifzep0Szg",
        "colab_type": "text"
      },
      "source": [
        "# Mapping Host Using Presence Data of the Host Species and the NAIP Images"
      ]
    },
    {
      "cell_type": "markdown",
      "metadata": {
        "id": "PJ8nUAVc0dmX",
        "colab_type": "text"
      },
      "source": [
        "## Define AOI and Load NAIP images"
      ]
    },
    {
      "cell_type": "markdown",
      "metadata": {
        "id": "K2npsc6H-7rJ",
        "colab_type": "text"
      },
      "source": [
        "### Define AOI, this AOI is defined by the presence points of ECFF"
      ]
    },
    {
      "cell_type": "markdown",
      "metadata": {
        "id": "jkJ9mTHcHIe1",
        "colab_type": "text"
      },
      "source": [
        "### Read presence points of ECFF in year 2019"
      ]
    },
    {
      "cell_type": "code",
      "metadata": {
        "id": "LNuTTEdW_BFo",
        "colab_type": "code",
        "colab": {
          "base_uri": "https://localhost:8080/",
          "height": 34
        },
        "outputId": "f4979bea-505c-458e-abcd-8485922696d7"
      },
      "source": [
        "pre19 = gpd.read_file(\"./PreAbe/2019_Positive_ECFF_Trap_Sites.shp\")\n",
        "print(\"shape of presence 2019 is\", pre19.shape)"
      ],
      "execution_count": null,
      "outputs": [
        {
          "output_type": "stream",
          "text": [
            "shape of presence 2019 is (1115, 41)\n"
          ],
          "name": "stdout"
        }
      ]
    },
    {
      "cell_type": "markdown",
      "metadata": {
        "id": "FjrUP_k6HNmQ",
        "colab_type": "text"
      },
      "source": [
        "### Get min, max of latitude and longitude from the presence points to define AOI for host mapping"
      ]
    },
    {
      "cell_type": "code",
      "metadata": {
        "id": "73EYnKrLDHM9",
        "colab_type": "code",
        "colab": {
          "base_uri": "https://localhost:8080/",
          "height": 185
        },
        "outputId": "62985e1d-9b43-437f-8821-da2256ea2d6b"
      },
      "source": [
        "def getCrds_Y(gdf_pts):\n",
        "    crds_Y = gdf_pts[['Latitude', 'Longitude','Year']]\n",
        "    return (crds_Y)\n",
        "\n",
        "crds = getCrds_Y(pre19)\n",
        "\n",
        "print(crds.shape)\n",
        "print(crds.head(5))\n",
        "\n",
        "ctd = crds[['Latitude', 'Longitude']].mean()\n",
        "print(ctd)\n",
        "\n",
        "lat_min, lat_max, long_min, long_max = crds['Latitude'].min(), crds['Latitude'].max(), crds['Longitude'].min(), crds['Longitude'].max()\n",
        "lat_min, lat_max, long_min, long_max = lat_min - 1, lat_max + 1, long_min - 1, long_max + 1"
      ],
      "execution_count": null,
      "outputs": [
        {
          "output_type": "stream",
          "text": [
            "(1115, 3)\n",
            "    Latitude  Longitude    Year\n",
            "0  43.362635 -78.568601  2019.0\n",
            "1  43.362545 -78.568667  2019.0\n",
            "2  43.363006 -78.567970  2019.0\n",
            "3  43.362870 -78.568676  2019.0\n",
            "4  43.362514 -78.569296  2019.0\n",
            "Latitude     43.287692\n",
            "Longitude   -78.759667\n",
            "dtype: float64\n"
          ],
          "name": "stdout"
        }
      ]
    },
    {
      "cell_type": "markdown",
      "metadata": {
        "id": "H3XdEdbyHbZC",
        "colab_type": "text"
      },
      "source": [
        "### Define AOI based on the point data"
      ]
    },
    {
      "cell_type": "code",
      "metadata": {
        "id": "bqza0-JpHV9B",
        "colab_type": "code",
        "colab": {}
      },
      "source": [
        "def getAOI(pre):\n",
        "    long_min = pre['Longitude'].min() - 1\n",
        "    long_max = pre['Longitude'].max() + 1\n",
        "    lat_min = pre['Latitude'].min() - 1\n",
        "    lat_max = pre['Latitude'].max() + 1\n",
        "    \n",
        "    aoi = ee.Geometry.Polygon([\n",
        "        [long_min, lat_max],\n",
        "        [long_max, lat_max],\n",
        "        [long_max, lat_min],\n",
        "        [long_min, lat_min]\n",
        "    ])    \n",
        "    \n",
        "    centroid_long = (long_min + long_max)/2\n",
        "    centroid_lat = (lat_min + lat_max)/2\n",
        "    \n",
        "    ctds = [centroid_long, centroid_lat]\n",
        "    \n",
        "    return(aoi, ctds)\n",
        "aoi, ctds = getAOI(crds)"
      ],
      "execution_count": 62,
      "outputs": []
    },
    {
      "cell_type": "markdown",
      "metadata": {
        "id": "geTGuY0E_B4h",
        "colab_type": "text"
      },
      "source": [
        "### Load NAIP Images"
      ]
    },
    {
      "cell_type": "code",
      "metadata": {
        "id": "FAy9yoA4_Inn",
        "colab_type": "code",
        "colab": {
          "base_uri": "https://localhost:8080/",
          "height": 67
        },
        "outputId": "8a3e464b-733a-4d63-a600-6068d74b34d8"
      },
      "source": [
        "collection = ee.ImageCollection('USDA/NAIP/DOQQ')\n",
        "naip = collection.filterBounds(aoi)\n",
        "naip15 = collection.filterDate('2015-05-01','2015-10-30')\n",
        "np15 = naip15.mosaic().clip(aoi)\n",
        "count15 = naip15.size().getInfo()\n",
        "naip13 = collection.filterDate('2013-03-01','2013-12-30')\n",
        "naip17 = collection.filterDate('2017-03-01','2017-12-30')\n",
        "#naip19 = collection.filterDate('2019-03-01','2019-12-30')  # not available yet\n",
        "\n",
        "np13 = naip13.mosaic().clip(aoi)\n",
        "np17 = naip17.mosaic().clip(aoi)\n",
        "#np19 = naip19.mosaic().clip(aoi)\n",
        "\n",
        "print('Count of NAIP 13:', naip13.size().getInfo())\n",
        "print('Count of NAIP 15:', count15)\n",
        "print('Count of NAIP 17:', naip17.size().getInfo())\n",
        "#print('Count 19:', naip19.size().getInfo())"
      ],
      "execution_count": 45,
      "outputs": [
        {
          "output_type": "stream",
          "text": [
            "Count of NAIP 13: 101760\n",
            "Count of NAIP 15: 119659\n",
            "Count of NAIP 17: 121728\n"
          ],
          "name": "stdout"
        }
      ]
    },
    {
      "cell_type": "markdown",
      "metadata": {
        "id": "kJubJlGj_Y93",
        "colab_type": "text"
      },
      "source": [
        "## Calculate NDVI for all three years of NAIP"
      ]
    },
    {
      "cell_type": "code",
      "metadata": {
        "id": "Jqu-OLlk_f4Q",
        "colab_type": "code",
        "colab": {}
      },
      "source": [
        "#nir, r = imgs.select('N'), imgs.select('R')\n",
        "ndvi15 = np15.normalizedDifference([\"N\", \"R\"])\n",
        "ndvi13 = np13.normalizedDifference([\"N\", \"R\"])\n",
        "ndvi17 = np17.normalizedDifference([\"N\", \"R\"])\n",
        "\n",
        "ndvi = ndvi15"
      ],
      "execution_count": 46,
      "outputs": []
    },
    {
      "cell_type": "markdown",
      "metadata": {
        "id": "Rr8IgMinI-4a",
        "colab_type": "text"
      },
      "source": [
        "## Image Segmentatioin and Feature Extraction with NAIP Images"
      ]
    },
    {
      "cell_type": "markdown",
      "metadata": {
        "id": "lfntGCVdJpn0",
        "colab_type": "text"
      },
      "source": [
        "### Use most two recent NAIP images (NAIP 2015 and 2017) for image segmentation"
      ]
    },
    {
      "cell_type": "code",
      "metadata": {
        "id": "zQLBl2ejJh1G",
        "colab_type": "code",
        "colab": {
          "base_uri": "https://localhost:8080/",
          "height": 34
        },
        "outputId": "a9fc3b40-6c91-4563-c263-e8aebde4b58b"
      },
      "source": [
        "np_all = np15.addBands(np17.select('R','G','B','N'))\n",
        "np_all.bandNames().getInfo()"
      ],
      "execution_count": 47,
      "outputs": [
        {
          "output_type": "execute_result",
          "data": {
            "text/plain": [
              "['R', 'G', 'B', 'N', 'R_1', 'G_1', 'B_1', 'N_1']"
            ]
          },
          "metadata": {
            "tags": []
          },
          "execution_count": 47
        }
      ]
    },
    {
      "cell_type": "code",
      "metadata": {
        "id": "W9k4VFcjJGtf",
        "colab_type": "code",
        "colab": {}
      },
      "source": [
        "seed = ee.Algorithms.Image.Segmentation.seedGrid(6)\n",
        "#seg = ee.Algorithms.Image.Segmentation.GMeans(image=imgs,numIterations=100,pValue=50,neighborhoodSize=500)\n",
        "#seg = ee.Algorithms.Image.Segmentation.SNIC(image=np15, size=10,compactness= 0, neighborhoodSize=500,connectivity= 8, seeds=seed).select(['R_mean', 'G_mean', 'B_mean', 'N_mean', 'clusters'], ['R', 'G', 'B', 'N', 'clusters'])\n",
        "seg = ee.Algorithms.Image.Segmentation.KMeans(np_all, 10, 100, 10)\n",
        "clusters = seg.select('clusters')"
      ],
      "execution_count": 48,
      "outputs": []
    },
    {
      "cell_type": "markdown",
      "metadata": {
        "id": "ohY2VJg8MDHq",
        "colab_type": "text"
      },
      "source": [
        "### Calculate ndvi and area of each segment/object, and filter segments by NDVI and area"
      ]
    },
    {
      "cell_type": "code",
      "metadata": {
        "id": "j07hJbMRMIjp",
        "colab_type": "code",
        "colab": {}
      },
      "source": [
        "seg_nv = ndvi17.addBands(clusters).reduceConnectedComponents(ee.Reducer.mean(), 'clusters').rename('seg_nv') # calculate segments ndvi\n",
        "clusters_veg = clusters.updateMask(seg_nv.gte(0.1)) # keep segments with NDVI greater than or equal to(gte) 0.1\n",
        "area = ee.Image.pixelArea().addBands(clusters).reduceConnectedComponents(ee.Reducer.sum(), 'clusters') # calculate segments area\n",
        "clusters_veg = clusters_veg.updateMask(area.lte(200)).updateMask(area.gte(5)) # keep segments with area between 5-200 \n",
        "\n",
        "clusters_AllVeg =  clusters.updateMask(seg_nv.gte(0.1)) # for another purpose, only filter segs by ndvi"
      ],
      "execution_count": 49,
      "outputs": []
    },
    {
      "cell_type": "markdown",
      "metadata": {
        "id": "MXFT-0NPMxIY",
        "colab_type": "text"
      },
      "source": [
        "### Calculate features for each segment, including mean band value, standard deviation of nir and ndvi, and textural features¶"
      ]
    },
    {
      "cell_type": "code",
      "metadata": {
        "id": "UOjyckrJM86R",
        "colab_type": "code",
        "colab": {
          "base_uri": "https://localhost:8080/",
          "height": 70
        },
        "outputId": "ef2926b6-073e-4240-e51f-c03dc4727782"
      },
      "source": [
        "fea_imgs = ee.Image([np13, np15, np17, ndvi13, ndvi15, ndvi17])\n",
        "fea_imgs2 = ee.Image([np13.select(\"N\"),np15.select(\"N\"),np17.select(\"N\"), ndvi13, ndvi15, ndvi17])\n",
        "\n",
        "cluster2=clusters\n",
        "\n",
        "## mean of all bands and ndvi\n",
        "npmeans = fea_imgs.addBands(cluster2).reduceConnectedComponents(ee.Reducer.mean(),'clusters')\n",
        "\n",
        "##  standard deviation of nir and ndvi\n",
        "npstds =  fea_imgs2.addBands(cluster2).reduceConnectedComponents(ee.Reducer.stdDev(),'clusters')\n",
        "\n",
        "## geometric features\n",
        "## area\n",
        "#area = ee.Image.pixelArea().addBands(cluster2).reduceConnectedComponents(ee.Reducer.sum(), 'clusters').rename('area')\n",
        "\n",
        "## perimeter\n",
        "#minMax = cluster2.reduceNeighborhood(ee.Reducer.minMax(), ee.Kernel.square(1))\n",
        "#perimeterPixels = minMax.select(0).neq(minMax.select(1)).rename('perimeter')\n",
        "#perimeter = perimeterPixels.addBands(cluster2).reduceConnectedComponents(ee.Reducer.sum(), 'clusters').rename('perimeter')\n",
        "\n",
        "## width and height\n",
        "#sizes = ee.Image.pixelLonLat().addBands(cluster2).reduceConnectedComponents(ee.Reducer.minMax(), 'clusters')\n",
        "#width = sizes.select('longitude_max').subtract(sizes.select('longitude_min')).rename('width')\n",
        "#height = sizes.select('latitude_max').subtract(sizes.select('latitude_min')).rename('height')\n",
        "\n",
        "\n",
        "## textural features\n",
        "glcm13=np13.select('N').glcmTexture(size= 3)\n",
        "glcm15=np15.select('N').glcmTexture(size= 3)\n",
        "glcm17=np17.select('N').glcmTexture(size= 3)\n",
        "\n",
        "glcm_sele=['N_contrast','N_var','N_ent','N_savg','N_diss']\n",
        "txtr_sele13=glcm13.select(glcm_sele)\n",
        "txtr_sele15=glcm15.select(glcm_sele)\n",
        "txtr_sele17=glcm17.select(glcm_sele)\n",
        "\n",
        "texture_fea = ee.Image([txtr_sele13,txtr_sele15,txtr_sele17])\n",
        "\n",
        "texture = texture_fea.addBands(cluster2).reduceConnectedComponents(ee.Reducer.mean(),'clusters')\n",
        "\n",
        "## compile all feature images\n",
        "#all_fea = ee.Image.cat([npmeans, npstds, area, perimeter, width, height, texture])\n",
        "all_fea = ee.Image.cat([npmeans, npstds, area, texture])\n",
        "print(all_fea.bandNames().getInfo())\n",
        "print (\"Number of variable is: \" + str(len(all_fea.bandNames().getInfo())))"
      ],
      "execution_count": 50,
      "outputs": [
        {
          "output_type": "stream",
          "text": [
            "['R', 'G', 'B', 'N', 'R_1', 'G_1', 'B_1', 'N_1', 'R_2', 'G_2', 'B_2', 'N_2', 'nd', 'nd_1', 'nd_2', 'N_3', 'N_1_1', 'N_2_1', 'nd_3', 'nd_1_1', 'nd_2_1', 'area', 'N_contrast', 'N_var', 'N_ent', 'N_savg', 'N_diss', 'N_contrast_1', 'N_var_1', 'N_ent_1', 'N_savg_1', 'N_diss_1', 'N_contrast_2', 'N_var_2', 'N_ent_2', 'N_savg_2', 'N_diss_2']\n",
            "Number of variable is: 37\n"
          ],
          "name": "stdout"
        }
      ]
    },
    {
      "cell_type": "markdown",
      "metadata": {
        "id": "XOwZWhEA_kDE",
        "colab_type": "text"
      },
      "source": [
        "## Load Host Presence Points (here use honeysuckle (HS) as a case)"
      ]
    },
    {
      "cell_type": "code",
      "metadata": {
        "id": "zDugrUsHCKBy",
        "colab_type": "code",
        "colab": {}
      },
      "source": [
        "os.chdir('/content/drive/Shared drives/APHIS  Projects/eRADS/eRADS_workflow/eRADS_workflow/host_mapping')"
      ],
      "execution_count": 51,
      "outputs": []
    },
    {
      "cell_type": "code",
      "metadata": {
        "id": "tKmOIz7aCfXJ",
        "colab_type": "code",
        "colab": {
          "base_uri": "https://localhost:8080/",
          "height": 134
        },
        "outputId": "94fcf325-701e-4057-fdaa-d087942df58f"
      },
      "source": [
        "hs = pd.read_csv(\"ECFF_HS.csv\",header=0)\n",
        "hs = hs.dropna()\n",
        "hs = hs[(hs.Longitude < long_max) & (hs.Longitude > long_min)]\n",
        "hs = hs[(hs.Latitude < lat_max) & (hs.Latitude > lat_min)]\n",
        "\n",
        "print(hs.head(5))\n",
        "print(\"Dimension of coordinates data is: {}\".format(hs.shape))"
      ],
      "execution_count": 52,
      "outputs": [
        {
          "output_type": "stream",
          "text": [
            "      Longitude  Latitude\n",
            "122   -79.16519  43.80910\n",
            "325   -79.69567  43.71885\n",
            "667   -79.56413  44.14809\n",
            "2498  -77.80124  44.28991\n",
            "2527  -77.79989  44.24636\n",
            "Dimension of coordinates data is: (427, 2)\n"
          ],
          "name": "stdout"
        }
      ]
    },
    {
      "cell_type": "markdown",
      "metadata": {
        "id": "oVKVHrwjO9uK",
        "colab_type": "text"
      },
      "source": [
        "### Convert point dataframe to earth engine point list"
      ]
    },
    {
      "cell_type": "code",
      "metadata": {
        "id": "c0gpdNWWOzjj",
        "colab_type": "code",
        "colab": {
          "base_uri": "https://localhost:8080/",
          "height": 34
        },
        "outputId": "f860d355-adec-4557-fa8f-e14c34a706e8"
      },
      "source": [
        "crdsls = hs.values.tolist()\n",
        "crdsls = ee.List(crdsls)\n",
        "#pts = ee.Geometry.MultiPoint(crdsls, proj='EPSG:4326')\n",
        "hs_pts = ee.Geometry.MultiPoint(crdsls)\n",
        "#pts = ee.FeatureCollection(pts)\n",
        "hs_pts = ee.Feature(hs_pts)\n",
        "\n",
        "ctd_long, ctd_lat = hs['Longitude'].mean(), hs['Latitude'].mean()\n",
        "print(\"Centroid of all presence points is:{} {}\".format(ctd_long, ctd_lat))"
      ],
      "execution_count": 53,
      "outputs": [
        {
          "output_type": "stream",
          "text": [
            "Centroid of all presence points is:-79.47584278688524 43.629590913348856\n"
          ],
          "name": "stdout"
        }
      ]
    },
    {
      "cell_type": "markdown",
      "metadata": {
        "id": "6w-axtxECjPZ",
        "colab_type": "text"
      },
      "source": [
        "## Generate samples for each class (only have 2 classes here, 1 for HS and 1 for non-HS ) for classification"
      ]
    },
    {
      "cell_type": "markdown",
      "metadata": {
        "id": "vpnf4u1WdXCt",
        "colab_type": "text"
      },
      "source": [
        "A critical assumption here is that: vegetations which are within 15-m of the presence points are the target host, i.e. HS in this case, whereas vegetations whoes distance to the presence points are between 15-100 are not target host species. Thus the vegetations within 15-m of the presence points are taken as the host species, whereas vegetations whose distance to presence points is between 15-100 are taken as non-host species. The other more practical interpretation is that the vegetations which are within 15-m of the presence points are more likely have similar features with locations where HS is presence. Thus this approach aims at picking up vegetations which have similar features with locations where HS is highly present. You can change the two distance, 15 and 100, based on specific host. "
      ]
    },
    {
      "cell_type": "markdown",
      "metadata": {
        "id": "fmHMjrhQOaSX",
        "colab_type": "text"
      },
      "source": [
        "### Create buffer for each sample points¶"
      ]
    },
    {
      "cell_type": "code",
      "metadata": {
        "id": "Mx01jWxFOf0g",
        "colab_type": "code",
        "colab": {}
      },
      "source": [
        "hs_bf0 = hs_pts.buffer(100)\n",
        "hs_bf1 = hs_pts.buffer(15)\n",
        "hs_bfdf = hs_bf0.difference(hs_bf1)\n",
        "hs_bfdf\n",
        "\n",
        "hs_pre = hs_bf1\n",
        "hs_no = hs_bfdf"
      ],
      "execution_count": 54,
      "outputs": []
    },
    {
      "cell_type": "markdown",
      "metadata": {
        "id": "QEu1DZ_dOhP6",
        "colab_type": "text"
      },
      "source": [
        "### Clip image segments by buffers"
      ]
    },
    {
      "cell_type": "code",
      "metadata": {
        "id": "u_Hc8ewYPOeU",
        "colab_type": "code",
        "colab": {}
      },
      "source": [
        "clusters_hs = clusters_AllVeg.clip(hs_pre)\n",
        "clusters_nonhs = clusters_AllVeg.clip(hs_no)"
      ],
      "execution_count": 55,
      "outputs": []
    },
    {
      "cell_type": "markdown",
      "metadata": {
        "id": "dcv4R7sbPSZx",
        "colab_type": "text"
      },
      "source": [
        "### Generate two classes, pre_img (HS presence - class 2) and no_img (HS absence - class 1), the output \"samples\" is an image with either value 1 or 2"
      ]
    },
    {
      "cell_type": "code",
      "metadata": {
        "id": "41O2sEcvPV3n",
        "colab_type": "code",
        "colab": {}
      },
      "source": [
        "pre_img = clusters_hs.select('clusters').multiply(0).add(2).rename('class')\n",
        "no_img = clusters_nonhs.select('clusters').multiply(0).add(1).rename('class')\n",
        "pre_img = pre_img.clip(aoi).unmask()\n",
        "no_img = no_img.clip(aoi).unmask()\n",
        "#samples = ee.ImageCollection.fromImages([pre_img, no_img]).mosaic().rename('class')\n",
        "samples = pre_img.add(no_img)\n",
        "samples = samples.updateMask(samples.gt(0))"
      ],
      "execution_count": 56,
      "outputs": []
    },
    {
      "cell_type": "markdown",
      "metadata": {
        "id": "4TMDVX7ilnXp",
        "colab_type": "text"
      },
      "source": [
        "## Select Training Data"
      ]
    },
    {
      "cell_type": "markdown",
      "metadata": {
        "id": "vUvJbSWFPZUq",
        "colab_type": "text"
      },
      "source": [
        "### Confine the training area"
      ]
    },
    {
      "cell_type": "code",
      "metadata": {
        "id": "j6vFg2lKPcZE",
        "colab_type": "code",
        "colab": {
          "base_uri": "https://localhost:8080/",
          "height": 54
        },
        "outputId": "de7a2b7b-1e7c-4d2d-e641-349110694007"
      },
      "source": [
        "train_aoi = hs_pre.union(hs_no)\n",
        "feas_train = all_fea.clip(train_aoi)\n",
        "#feas_train = all_fea.updateMask(samples.gte(1))\n",
        "\n",
        "feas_train2 = feas_train.addBands(samples)\n",
        "print(feas_train2.bandNames().getInfo())\n",
        "\n",
        "train_fc = feas_train.reduceToVectors(scale=1, bestEffort = True, geometryType = 'polygon',maxPixels = 1e13, labelProperty = \"class\")\n",
        "train_fc2 = train_fc.randomColumn('random')\n",
        "\n",
        "train_sp = train_fc2.filter(ee.Filter.gte('random', 0.3))\n",
        "test_sp = train_fc2.filter(ee.Filter.lt('random', 0.3))"
      ],
      "execution_count": 57,
      "outputs": [
        {
          "output_type": "stream",
          "text": [
            "['R', 'G', 'B', 'N', 'R_1', 'G_1', 'B_1', 'N_1', 'R_2', 'G_2', 'B_2', 'N_2', 'nd', 'nd_1', 'nd_2', 'N_3', 'N_1_1', 'N_2_1', 'nd_3', 'nd_1_1', 'nd_2_1', 'area', 'N_contrast', 'N_var', 'N_ent', 'N_savg', 'N_diss', 'N_contrast_1', 'N_var_1', 'N_ent_1', 'N_savg_1', 'N_diss_1', 'N_contrast_2', 'N_var_2', 'N_ent_2', 'N_savg_2', 'N_diss_2', 'class']\n"
          ],
          "name": "stdout"
        }
      ]
    },
    {
      "cell_type": "markdown",
      "metadata": {
        "id": "JHvumsUxPhxw",
        "colab_type": "text"
      },
      "source": [
        "### Within the training area, sample training and testing data"
      ]
    },
    {
      "cell_type": "code",
      "metadata": {
        "id": "8uYRBKtOPksX",
        "colab_type": "code",
        "colab": {}
      },
      "source": [
        "training = feas_train2.stratifiedSample(1000, classBand= 'class',scale = 5)\n",
        "testing = feas_train2.stratifiedSample(1000, classBand= 'class',scale = 5)"
      ],
      "execution_count": 68,
      "outputs": []
    },
    {
      "cell_type": "markdown",
      "metadata": {
        "id": "z6DGxJLDlwpl",
        "colab_type": "text"
      },
      "source": [
        "## Train Classifier"
      ]
    },
    {
      "cell_type": "markdown",
      "metadata": {
        "id": "Lb61cck0PoS4",
        "colab_type": "text"
      },
      "source": [
        "### Train classification model, gee has multiple models to choose¶. Here use random forest"
      ]
    },
    {
      "cell_type": "code",
      "metadata": {
        "id": "SysgWtBGPsLv",
        "colab_type": "code",
        "colab": {
          "base_uri": "https://localhost:8080/",
          "height": 34
        },
        "outputId": "c9d08c7f-94c7-4622-f9ab-6e6aeb09709c"
      },
      "source": [
        "classifier = ee.Classifier.randomForest(numberOfTrees = 256).train(training, 'class')\n",
        "test = testing.classify(classifier)\n",
        "ts_matrix = test.errorMatrix('class', 'classification')\n",
        "classified = training.classify(classifier)\n",
        "classified"
      ],
      "execution_count": 69,
      "outputs": [
        {
          "output_type": "execute_result",
          "data": {
            "text/plain": [
              "<ee.featurecollection.FeatureCollection at 0x7fee4b8e1a20>"
            ]
          },
          "metadata": {
            "tags": []
          },
          "execution_count": 69
        }
      ]
    },
    {
      "cell_type": "markdown",
      "metadata": {
        "id": "thf_gusDPv3N",
        "colab_type": "text"
      },
      "source": [
        "### Check accuraccuracy (this step can take a long time) "
      ]
    },
    {
      "cell_type": "code",
      "metadata": {
        "id": "bSgXfRm9P0RK",
        "colab_type": "code",
        "colab": {}
      },
      "source": [
        "confMatrix = classifier.confusionMatrix()\n",
        "\n",
        "OA = confMatrix.accuracy()\n",
        "CA = confMatrix.consumersAccuracy()\n",
        "PA = confMatrix.producersAccuracy()\n",
        "Kappa = confMatrix.kappa()\n",
        "Order = confMatrix.order()"
      ],
      "execution_count": 70,
      "outputs": []
    },
    {
      "cell_type": "code",
      "metadata": {
        "id": "iMZ2_iwDmrbv",
        "colab_type": "code",
        "colab": {}
      },
      "source": [
        "# This step also can take a long time #\n",
        "\n",
        "#print('Resubstitution error matrix: ', confMatrix.getInfo())\n",
        "#print('Training overall accuracy: ', OA.getInfo())\n",
        "#print('User accuracy: ', CA.getInfo())\n",
        "#print('Producer accuracy: ', PA.getInfo())\n",
        "#print('Kappa: ', Kappa.getInfo())"
      ],
      "execution_count": 72,
      "outputs": []
    },
    {
      "cell_type": "markdown",
      "metadata": {
        "id": "BPGFfZNjl2Oc",
        "colab_type": "text"
      },
      "source": [
        "## Classify the Whole Study Area Using the Trained Classifier and Export Host Class"
      ]
    },
    {
      "cell_type": "markdown",
      "metadata": {
        "id": "tWyV9tIIP3Vr",
        "colab_type": "text"
      },
      "source": [
        "### Use the trained model to classify all area"
      ]
    },
    {
      "cell_type": "code",
      "metadata": {
        "id": "Y5dQHxttP8iG",
        "colab_type": "code",
        "colab": {}
      },
      "source": [
        "classified_map = all_fea.classify(classifier)\n",
        "host_map = classified_map.updateMask(classified_map.eq(2)) #(class 2 is the class for HS)"
      ],
      "execution_count": 28,
      "outputs": []
    },
    {
      "cell_type": "markdown",
      "metadata": {
        "id": "ufMes2SoP-bT",
        "colab_type": "text"
      },
      "source": [
        "### Export the classified HS Map  (This step can take a long time)"
      ]
    },
    {
      "cell_type": "code",
      "metadata": {
        "id": "NWCPaGOHQJNx",
        "colab_type": "code",
        "colab": {}
      },
      "source": [
        "task = ee.batch.Export.image.toDrive(image= cla2, maxPixels = 1e13, description='HS_map',scale=100,folder='host_mapping',fileFormat='GeoTIFF')\n",
        "task.start()\n",
        "task.status()['state']\n",
        "\n",
        "import time\n",
        "starttime=time.time()\n",
        "state = \"Ready\"  \n",
        "\n",
        "n=0\n",
        "while state!='COMPLETED' and state!= 'FAILED':\n",
        "    print(\"status: \" + task.status()['state'])\n",
        "    state = task.status()['state']\n",
        "    print(\"Time consumed: \" + str(10*n) +'s')\n",
        "    n += 1\n",
        "    time.sleep(10)\n",
        "\n",
        "if task.status()['state'] == 'FAILED':\n",
        "    print (task.status()['error_message'])"
      ],
      "execution_count": null,
      "outputs": []
    }
  ]
}